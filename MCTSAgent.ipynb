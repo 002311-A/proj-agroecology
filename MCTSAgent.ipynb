{
  "cells": [
    {
      "cell_type": "markdown",
      "source": [
        "# MCTS Agent #"
      ],
      "metadata": {
        "id": "XFdWl0X9eisQ"
      }
    },
    {
      "cell_type": "markdown",
      "source": [
        "Toy environment."
      ],
      "metadata": {
        "id": "NrMGqW4reoY8"
      }
    },
    {
      "cell_type": "code",
      "source": [
        "from tqdm import tqdm\n",
        "import gym\n",
        "import itertools\n",
        "import matplotlib\n",
        "import matplotlib.pyplot as plt\n",
        "import numpy as np\n",
        "import pandas as pd\n",
        "import sys\n",
        "from gym import error, spaces, utils\n",
        "from gym.utils import seeding\n",
        "from enum import Enum\n",
        "import collections\n",
        "from itertools import combinations\n",
        "import random\n"
      ],
      "metadata": {
        "id": "XEqVAQf5DN4-"
      },
      "execution_count": null,
      "outputs": []
    },
    {
      "cell_type": "code",
      "source": [
        "import numpy as np\n",
        "import matplotlib.pyplot as plt\n",
        "import gym\n",
        "from gym import error, spaces, utils\n",
        "from gym.utils import seeding\n",
        "from enum import Enum\n",
        "\n",
        "class Plant:\n",
        "  # changed maturity to 10 from 110 to make comparable to q-learning\n",
        "    def __init__(self, species, maturity=1):\n",
        "        self.species = species\n",
        "        self.maturity = maturity         # consider 'days_to_maturity'\n",
        "        self.age = 0\n",
        "        \n",
        "    def __repr__(self):\n",
        "        return \"{}\".format(self.species)\n",
        "    \n",
        "class Field(gym.Env):\n",
        "\n",
        "    def __init__(self, size=5, sow_limit=200, season=120, calendar=0):\n",
        "        # added to define action and observation spaces\n",
        "        vals = [range(3), range(360), range(360)]\n",
        "\n",
        "        # mapping possible planting formations into discrete action space\n",
        "        self.action_list = list(itertools.product(*vals))\n",
        "        self.num_actions = np.array(self.action_list).shape[0]\n",
        "        self.action_space = spaces.Discrete(self.num_actions)\n",
        "\n",
        "        # reduced observation space to plant count 1) standardize output and 2) remain consistent with genetic algo\n",
        "        self.observation_space = spaces.Box(np.array([0,0,0]),np.array([360,360,360]),dtype=np.int64)\n",
        "\n",
        "        # parameters for overall field character\n",
        "        self.size = size\n",
        "        self.sow_limit = sow_limit\n",
        "        self.season = season\n",
        "        self.calendar = calendar\n",
        "        \n",
        "        # constants for computing end-of-season reward---distances represent meters\n",
        "        self.crowding_dist = .02\n",
        "        self.maize_maize_dist = .1\n",
        "        self.bean_support_dist = .1\n",
        "        self.crowding_penalty = .1\n",
        "        self.maize_maize_penalty = .9\n",
        "        self.bean_support_bonus = .6\n",
        "        \n",
        "        # field is initialized by calling reset()\n",
        "        self.field = None\n",
        "\n",
        "    def is_terminal(self):\n",
        "        return self.calendar == self.season\n",
        "    def step(self, action):\n",
        "        #\n",
        "        action = self.action_list[action]\n",
        "        if int(action[0]) == 0:\n",
        "                self.field = np.append(self.field, [[self.size * truncate(action[1]), \n",
        "                                                 self.size * truncate(action[2]), \n",
        "                                                 Plant('Maize')]], axis=0)\n",
        "        elif int(action[0]) == 1:\n",
        "            self.field = np.append(self.field, [[self.size * truncate(action[1]), \n",
        "                                              self.size * truncate(action[2]), \n",
        "                                              Plant('Bean')]], axis=0)\n",
        "        elif int(action[0]) == 2:\n",
        "            self.field = np.append(self.field, [[self.size * truncate(action[1]), \n",
        "                                              self.size * truncate(action[2]), \n",
        "                                              Plant('Squash')]], axis=0)\n",
        "        self.calendar +=1\n",
        "        for plant in self.field:\n",
        "            plant[2].age += 1\n",
        "            \n",
        "        done = self.calendar == self.season\n",
        "            \n",
        "        if not done:\n",
        "            reward = 0\n",
        "        else:\n",
        "            reward = self.get_reward()\n",
        "        return self.field, reward, done, {}\n",
        "    \n",
        "    def reset(self):\n",
        "        # field is initialized with one random corn plant in order to make sowing (by np.append) work\n",
        "        self.field = np.array([[self.size * np.random.random(), \n",
        "                                self.size * np.random.random(), \n",
        "                                Plant('Maize')]])\n",
        "        # timekeeping is reset\n",
        "        self.calendar = 0\n",
        "        reward=0\n",
        "\n",
        "        # added to avoid returning none type\n",
        "        return self.field\n",
        "        \n",
        "    def render(self, mode='human'):\n",
        "        # initialize plant type arrays so that pyplot won't break if any is empty\n",
        "        maize = np.array([[None, None]])\n",
        "        bean = np.array([[None, None]])\n",
        "        squash = np.array([[None, None]])\n",
        "        maize_imm = np.array([[None, None]])\n",
        "        bean_imm = np.array([[None, None]])\n",
        "        squash_imm = np.array([[None, None]])\n",
        "        # replace initial arrays with coordinates for each plant type; imm are plants that haven't matured\n",
        "        maize = np.array([row for row in self.field \n",
        "                            if row[2].__repr__() == 'Maize' and row[2].age >= row[2].maturity])\n",
        "        if maize.size==0:\n",
        "          maize = np.array([[None, None]])\n",
        "        bean = np.array([row for row in self.field \n",
        "                            if row[2].__repr__() == 'Bean' and row[2].age >= row[2].maturity])\n",
        "        if bean.size==0:\n",
        "          bean = np.array([[None, None]])\n",
        "        squash = np.array([row for row in self.field \n",
        "                              if row[2].__repr__() == 'Squash' and row[2].age >= row[2].maturity])\n",
        "        if squash.size==0:\n",
        "          squash = np.array([[None, None]])\n",
        "        maize_imm = np.array([row for row in self.field \n",
        "                            if row[2].__repr__() == 'Maize' and row[2].age < row[2].maturity])\n",
        "        if maize_imm.size==0:\n",
        "          maize_imm = np.array([[None, None]])\n",
        "        bean_imm = np.array([row for row in self.field \n",
        "                            if row[2].__repr__() == 'Bean' and row[2].age < row[2].maturity])\n",
        "        if bean_imm.size==0:\n",
        "          bean_imm = np.array([[None, None]])\n",
        "        squash_imm = np.array([row for row in self.field \n",
        "                            if row[2].__repr__() == 'Squash' and row[2].age < row[2].maturity])\n",
        "        if squash_imm.size==0:\n",
        "          squash_imm = np.array([[None, None]])\n",
        "        # plot the field---currently breaks if any plant type is absent\n",
        "        plt.figure(figsize=(10, 10))\n",
        "        plt.scatter(maize[:,0], maize[:,1], c='green', s=200, marker = 'o', alpha=.5, edgecolor='#303030')\n",
        "        plt.scatter(bean[:,0], bean[:,1], c='brown', s=150, marker = 'o', alpha=.5, edgecolor='#303030')\n",
        "        plt.scatter(squash[:,0], squash[:,1], c='orange', s=400, marker = 'o', alpha=.5, edgecolor='#303030')\n",
        "        plt.scatter(maize_imm[:,0], maize_imm[:,1], c='green', s=200, marker = 'o', alpha=.1, edgecolor='#303030')\n",
        "        plt.scatter(bean_imm[:,0], bean_imm[:,1], c='brown', s=200, marker = 'o', alpha=.1, edgecolor='#303030')\n",
        "        plt.scatter(squash_imm[:,0], squash_imm[:,1], c='orange', s=200, marker = 'o', alpha=.1, edgecolor='#303030')\n",
        "\n",
        "        plt.show()\n",
        "        \n",
        "        print(\"Total yield in Calories is {}.\\n---\\n\".format(round(self.get_reward(), 1)))\n",
        "    \n",
        "    def close(self):\n",
        "        # unneeded right now? AFAICT this is only used to shut down realtime movie visualizations\n",
        "        pass\n",
        "    \n",
        "    def get_reward(self):\n",
        "        # array of plant coordinates for computing distances\n",
        "        xy_array = np.array([[row[0], row[1]] for row in self.field])\n",
        "\n",
        "        # distances[m,n] is distance from mth to nth plant in field\n",
        "        distances = np.linalg.norm(xy_array - xy_array[:,None], axis=-1)\n",
        "        \n",
        "        reward = 0\n",
        "        i = 0\n",
        "        while i < len(self.field):\n",
        "            if self.field[i,2].age < self.field[i,2].maturity:\n",
        "                reward += 0\n",
        "            elif self.field[i,2].__repr__() == 'Maize':\n",
        "                cal = 1\n",
        "                j = 0\n",
        "                while j < len(distances[0]):\n",
        "                    if (self.field[j,2].__repr__() == 'Bean' \n",
        "                            and distances[i,j] < self.bean_support_dist):\n",
        "                        cal += self.bean_support_bonus\n",
        "                    if (self.field[j,2].__repr__() == 'Maize' \n",
        "                            and i !=j \n",
        "                            and distances[i,j] < self.maize_maize_dist):\n",
        "                        cal *= self.maize_maize_penalty\n",
        "                    if 0 < distances[i,j] < self.crowding_dist:\n",
        "                        cal *= self.crowding_penalty\n",
        "                    j += 1\n",
        "                reward += cal\n",
        "            elif self.field[i,2].__repr__() == 'Bean':\n",
        "                reward += .25\n",
        "            elif self.field[i,2].__repr__() == 'Squash':\n",
        "                reward += 3\n",
        "            i += 1        \n",
        "        return reward\n"
      ],
      "metadata": {
        "id": "80m1tCXWLBRG"
      },
      "execution_count": null,
      "outputs": []
    },
    {
      "cell_type": "code",
      "source": [
        "env = Field()"
      ],
      "metadata": {
        "id": "j0k8uZqknviM"
      },
      "execution_count": null,
      "outputs": []
    },
    {
      "cell_type": "code",
      "source": [
        "print(env.action_space)\n",
        "print(env.observation_space)"
      ],
      "metadata": {
        "id": "5XkqDtwi8EOM"
      },
      "execution_count": null,
      "outputs": []
    },
    {
      "cell_type": "code",
      "execution_count": null,
      "metadata": {
        "id": "RlO7WIQHu_7D"
      },
      "outputs": [],
      "source": [
        "# testing empty environment\n",
        "env.reset()\n",
        "env.render()"
      ]
    },
    {
      "cell_type": "markdown",
      "source": [
        "Brute Force Search"
      ],
      "metadata": {
        "id": "7JI7LuVq495I"
      }
    },
    {
      "cell_type": "code",
      "source": [
        "for episode in range(1, 10):\n",
        "      state = env.reset()\n",
        "      done = False\n",
        "      score = 0 \n",
        "      while not done:\n",
        "          action = env.action_space.sample()\n",
        "          n_state, reward, done, info = env.step(action)\n",
        "          score+=reward\n",
        "      env.render()\n"
      ],
      "metadata": {
        "id": "ycgjA11KKpK4"
      },
      "execution_count": null,
      "outputs": []
    },
    {
      "cell_type": "markdown",
      "source": [
        "MCTS "
      ],
      "metadata": {
        "id": "oau6Kcdq5HXO"
      }
    },
    {
      "cell_type": "code",
      "source": [
        "class MCTSNode:\n",
        "  def __init__(self, state, terminal=False, parent=None, parent_action=None):\n",
        "      self.state = state\n",
        "      self.parent = parent\n",
        "      self.parent_action = parent_action\n",
        "      self.children = []\n",
        "      self._number_of_visits = 0\n",
        "      self.terminal = terminal\n",
        "\n",
        "  # determines if node is at the end of the season\n",
        "  def is_terminal_node(self):\n",
        "    return self.state.is_terminal()\n",
        "  \n",
        "  # gets number of visits\n",
        "  def n(self):\n",
        "    return self._number_of_visits\n",
        "  # expands tree\n",
        "  def expand(self):\n",
        "    state = self.state\n",
        "    action=random.randint(0,len(self.state.action_list)-1)\n",
        "    next_state, reward, done, info =state.step(action)\n",
        "    child_node = MCTSNode(state, terminal=done, parent=self, parent_action=action)\n",
        "    self.children.append(child_node)\n",
        "    return child_node\n",
        "  \n",
        "  # recieved average rewards\n",
        "  def calc_avg(self): \n",
        "    return self.state.get_reward()/self.n()\n",
        "  \n",
        "  # simulates one monte carlo rollout\n",
        "  def rollout(self):\n",
        "    state = self.state\n",
        "    while not state.is_terminal():\n",
        "        action = env.action_space.sample()\n",
        "        n_state, reward, done, info = state.step(action)\n",
        "    state.reset()\n",
        "    path=[]\n",
        "    curr=self\n",
        "    while curr.parent_action:\n",
        "      path.append(curr.parent_action)\n",
        "      curr=curr.parent\n",
        "    for i in range(len(path)):\n",
        "      state.step(path[len(path)-i-1])\n",
        "    return state.get_reward()\n",
        "  \n",
        "  # updates tree values\n",
        "  def backpropagate(self, result):\n",
        "    #print(self)\n",
        "    self._number_of_visits += 1.\n",
        "    if self.parent:\n",
        "        self.parent.backpropagate(result)\n",
        "  \n",
        "  # determines if node is fully expanded -- change value to determine expansion rate\n",
        "  def is_fully_expanded(self):\n",
        "    return len(self.children)>5\n",
        "\n",
        "  # returns best child\n",
        "  def best_child(self, c_param=0.1):\n",
        "    print(self.state.calendar)\n",
        "    choices_weights = [ c.calc_avg() + c_param * np.sqrt((2 * np.log(self.state.calendar) / c.n())) for c in self.children]\n",
        "    print(choices_weights )\n",
        "    return self.children[np.argmax(choices_weights)]\n",
        "  \n",
        "  # selects node to expand\n",
        "  def _tree_policy(self):\n",
        "      current_node = self\n",
        "      #print(current_node.is_terminal_node())\n",
        "      i=0\n",
        "      while not current_node.is_terminal_node():\n",
        "          #print(str(i)+ \": \"+str(current_node.is_fully_expanded())+\", \"+ str(len(current_node.children)))\n",
        "          if not current_node.is_fully_expanded():\n",
        "              return current_node.expand()\n",
        "          else:\n",
        "              current_node = current_node.best_child()\n",
        "          i+=1\n",
        "      return current_node\n",
        "\n",
        "  # fill outs tree -- adjust simulation_no to increase number of nodes added\n",
        "  def best_action(self):\n",
        "      simulation_no = 1000\n",
        "      for i in tqdm(range(simulation_no)):\n",
        "          v = self._tree_policy()\n",
        "          reward = v.rollout()\n",
        "          v.backpropagate(reward)\n",
        "      child = self.best_child()\n",
        "      while len(child.children) > 0 or child.is_terminal_node():\n",
        "        child = child.best_child()\n",
        "      return child\n",
        "  \n",
        "# reference code: https://ai-boson.github.io/mcts/"
      ],
      "metadata": {
        "id": "FAkgizeSKgva"
      },
      "execution_count": null,
      "outputs": []
    },
    {
      "cell_type": "code",
      "source": [
        "# Running search\n",
        "env.reset()\n",
        "root = MCTSNode(state = env)\n",
        "selected_node = root.best_action()"
      ],
      "metadata": {
        "id": "8IKaB9AJR81s"
      },
      "execution_count": null,
      "outputs": []
    },
    {
      "cell_type": "code",
      "source": [
        "# Determining optimal path\n",
        "best_path=[]\n",
        "curr=selected_node\n",
        "while curr.parent_action:\n",
        "  best_path.append(curr.parent_action)\n",
        "  curr=curr.parent"
      ],
      "metadata": {
        "id": "9uSiLZ-lTbAf"
      },
      "execution_count": null,
      "outputs": []
    },
    {
      "cell_type": "code",
      "source": [
        "# Determining depth of tree\n",
        "len(best_path)"
      ],
      "metadata": {
        "id": "FN2vUlFhcjel"
      },
      "execution_count": null,
      "outputs": []
    },
    {
      "cell_type": "code",
      "source": [
        "# Rendering best path\n",
        "env.reset()\n",
        "for i in range(len(best_path)):\n",
        "  env.step(best_path[len(best_path)-i-1])\n",
        "env.render()"
      ],
      "metadata": {
        "id": "aueaZuqmUWu7"
      },
      "execution_count": null,
      "outputs": []
    }
  ],
  "metadata": {
    "colab": {
      "collapsed_sections": [],
      "name": "MCTSAgent.ipynb",
      "private_outputs": true,
      "provenance": []
    },
    "kernelspec": {
      "display_name": "Python 3",
      "language": "python",
      "name": "python3"
    },
    "pycharm": {
      "stem_cell": {
        "cell_type": "raw",
        "metadata": {
          "collapsed": false
        },
        "source": []
      }
    }
  },
  "nbformat": 4,
  "nbformat_minor": 0
}